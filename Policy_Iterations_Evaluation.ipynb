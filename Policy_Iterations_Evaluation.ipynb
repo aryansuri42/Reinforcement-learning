{
  "nbformat": 4,
  "nbformat_minor": 0,
  "metadata": {
    "colab": {
      "provenance": [],
      "authorship_tag": "ABX9TyMdXr77apfwTJWYh8ygYM/T",
      "include_colab_link": true
    },
    "kernelspec": {
      "name": "python3",
      "display_name": "Python 3"
    },
    "language_info": {
      "name": "python"
    }
  },
  "cells": [
    {
      "cell_type": "markdown",
      "metadata": {
        "id": "view-in-github",
        "colab_type": "text"
      },
      "source": [
        "<a href=\"https://colab.research.google.com/github/aryansuri42/Reinforcement-learning-21csu467/blob/main/Policy_Iterations_Evaluation.ipynb\" target=\"_parent\"><img src=\"https://colab.research.google.com/assets/colab-badge.svg\" alt=\"Open In Colab\"/></a>"
      ]
    },
    {
      "cell_type": "code",
      "execution_count": null,
      "metadata": {
        "id": "jv3l8zTWnqEi"
      },
      "outputs": [],
      "source": [
        "import numpy as np\n",
        "import math\n",
        "\n",
        "def reward(next_state):\n",
        "    if next_state==1:\n",
        "        return 1\n",
        "    elif next_state==-1:\n",
        "        return -1\n",
        "    else:\n",
        "        return 0"
      ]
    },
    {
      "cell_type": "code",
      "source": [
        "class node:\n",
        "  def __init__(self, terminal, vs, reward, obstacle):\n",
        "    self.terminal = terminal\n",
        "    self.vs = vs\n",
        "    self.reward = reward\n",
        "    self.obstacle = obstacle\n",
        "\n",
        "  def vs_calc(self, next_state):\n",
        "    self.vs = next_state.reward + 0.9*(next_state.vs)\n"
      ],
      "metadata": {
        "id": "0V-CwvxupyQs"
      },
      "execution_count": null,
      "outputs": []
    },
    {
      "cell_type": "code",
      "source": [
        "grid = np.array([\n",
        "    [node(False,0,0,False), node(False,0,0,False), node(False,0,0,False), node(True,0,1,False)],\n",
        "    [node(False,0,0,False), node(False,0,0,True), node(False,0,0,False), node(True,0,-1,False)],\n",
        "    [node(False,0,0,False), node(False,0,0,False), node(False,0,0,False), node(True,0,0,False)]\n",
        "])\n",
        "grid_values = ([\n",
        "    [0,0,0,0],\n",
        "    [0,0,0,0],\n",
        "    [0,0,0,0]\n",
        "])\n",
        "operation_grid = np.array([[\"R\", \"R\", \"R\", 1],\n",
        "                         [\"U\", 0, \"U\", -1],\n",
        "                         [\"U\", \"R\", \"U\", \"L\"]])\n",
        "g = 0.9"
      ],
      "metadata": {
        "id": "t3jlbiT7n7Zk"
      },
      "execution_count": null,
      "outputs": []
    },
    {
      "cell_type": "code",
      "source": [
        "diff = 0\n",
        "old_grid = grid_values\n",
        "new_grid = np.zeros((3,4))\n",
        "while (np.array_equal(new_grid, old_grid)!=False) or diff<=0.3:\n",
        "  for num in range(0,3):\n",
        "    new_grid = np.zeros((3,4))\n",
        "    for i in range(0,3):\n",
        "      for j in range(0,4):\n",
        "        if operation_grid[i,j]==\"R\":\n",
        "          action = grid[i,j]\n",
        "          next = grid[i,j+1]\n",
        "          action.vs_calc(next)\n",
        "          new_grid[i,j]=action.vs\n",
        "        elif operation_grid[i,j]==\"U\":\n",
        "          action = grid[i,j]\n",
        "          next = grid[i-1,j]\n",
        "          action.vs_calc(next)\n",
        "          new_grid[i,j]=action.vs\n",
        "        elif operation_grid[i,j]==\"L\":\n",
        "          action = grid[i,j]\n",
        "          next = grid[i,j-1]\n",
        "          action.vs_calc(next)\n",
        "          new_grid[i,j]=action.vs\n",
        "        else:\n",
        "          continue\n",
        "    diff = np.max(np.subtract(new_grid, old_grid))\n",
        "    print(new_grid, diff)\n",
        "    old_g"
      ],
      "metadata": {
        "colab": {
          "base_uri": "https://localhost:8080/"
        },
        "id": "8iUXvu62oCJb",
        "outputId": "5d72b0bd-371c-499b-dc05-b9592ba98172"
      },
      "execution_count": null,
      "outputs": [
        {
          "output_type": "stream",
          "name": "stdout",
          "text": [
            "[[0.    0.    1.    0.   ]\n",
            " [0.    0.    0.9   0.   ]\n",
            " [0.    0.    0.81  0.729]] 1.0\n",
            "[[0.    0.9   1.    0.   ]\n",
            " [0.    0.    0.9   0.   ]\n",
            " [0.    0.729 0.81  0.729]] 0.9\n",
            "[[0.81   0.9    1.     0.    ]\n",
            " [0.729  0.     0.9    0.    ]\n",
            " [0.6561 0.729  0.81   0.729 ]] 0.81\n",
            "[[0.81   0.9    1.     0.    ]\n",
            " [0.729  0.     0.9    0.    ]\n",
            " [0.6561 0.729  0.81   0.729 ]] 0.0\n",
            "[[0.81   0.9    1.     0.    ]\n",
            " [0.729  0.     0.9    0.    ]\n",
            " [0.6561 0.729  0.81   0.729 ]] 0.0\n",
            "[[0.81   0.9    1.     0.    ]\n",
            " [0.729  0.     0.9    0.    ]\n",
            " [0.6561 0.729  0.81   0.729 ]] 0.0\n",
            "[[0.81   0.9    1.     0.    ]\n",
            " [0.729  0.     0.9    0.    ]\n",
            " [0.6561 0.729  0.81   0.729 ]] 0.0\n",
            "[[0.81   0.9    1.     0.    ]\n",
            " [0.729  0.     0.9    0.    ]\n",
            " [0.6561 0.729  0.81   0.729 ]] 0.0\n",
            "[[0.81   0.9    1.     0.    ]\n",
            " [0.729  0.     0.9    0.    ]\n",
            " [0.6561 0.729  0.81   0.729 ]] 0.0\n",
            "[[0.81   0.9    1.     0.    ]\n",
            " [0.729  0.     0.9    0.    ]\n",
            " [0.6561 0.729  0.81   0.729 ]] 0.0\n",
            "[[0.81   0.9    1.     0.    ]\n",
            " [0.729  0.     0.9    0.    ]\n",
            " [0.6561 0.729  0.81   0.729 ]] 0.0\n",
            "[[0.81   0.9    1.     0.    ]\n",
            " [0.729  0.     0.9    0.    ]\n",
            " [0.6561 0.729  0.81   0.729 ]] 0.0\n",
            "[[0.81   0.9    1.     0.    ]\n",
            " [0.729  0.     0.9    0.    ]\n",
            " [0.6561 0.729  0.81   0.729 ]] 0.0\n",
            "[[0.81   0.9    1.     0.    ]\n",
            " [0.729  0.     0.9    0.    ]\n",
            " [0.6561 0.729  0.81   0.729 ]] 0.0\n",
            "[[0.81   0.9    1.     0.    ]\n",
            " [0.729  0.     0.9    0.    ]\n",
            " [0.6561 0.729  0.81   0.729 ]] 0.0\n"
          ]
        }
      ]
    },
    {
      "cell_type": "code",
      "source": [],
      "metadata": {
        "id": "a5nenkysxewV",
        "colab": {
          "base_uri": "https://localhost:8080/"
        },
        "outputId": "ef237522-4e9c-4236-ea24-a81b0ad194bc"
      },
      "execution_count": null,
      "outputs": [
        {
          "output_type": "stream",
          "name": "stdout",
          "text": [
            "Predicted Y for X = 55: 86.33\n"
          ]
        },
        {
          "output_type": "stream",
          "name": "stderr",
          "text": [
            "/usr/local/lib/python3.10/dist-packages/sklearn/base.py:439: UserWarning: X does not have valid feature names, but LinearRegression was fitted with feature names\n",
            "  warnings.warn(\n"
          ]
        }
      ]
    }
  ]
}